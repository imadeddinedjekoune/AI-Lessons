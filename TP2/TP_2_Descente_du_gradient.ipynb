{
  "cells": [
    {
      "cell_type": "markdown",
      "metadata": {
        "id": "bT4srwvYduAk"
      },
      "source": [
        "# TP 2 Descente du Gradient\n",
        "Dans ce TP, nous aimerions prédire le chiffre d'affaire d'une entreprise dans plusieurs ville en nous basant sur les habitant de cette ville.\n",
        "\n",
        "Pour ce faire, nous étudierons un ensemble de données avec le chiffre d'affaire (y) et les caractéristiques des habitants (X).\n",
        "\n",
        "La prédiction se fera avec l'agorithme de descente du gradient."
      ]
    },
    {
      "cell_type": "markdown",
      "metadata": {
        "id": "19NDy7rFduAw"
      },
      "source": [
        "# Importation des librairies necessaires au travail"
      ]
    },
    {
      "cell_type": "code",
      "execution_count": null,
      "metadata": {
        "id": "PsxbsntfduAx"
      },
      "outputs": [],
      "source": [
        "import numpy as np\n",
        "import matplotlib.pyplot as plt"
      ]
    },
    {
      "cell_type": "markdown",
      "metadata": {
        "id": "qzg2aOT-duAz"
      },
      "source": [
        "# Lecture des fichiers de données\n",
        "Pour ce TP, nous allons lire les données à partir d'un fichier csv."
      ]
    },
    {
      "cell_type": "code",
      "execution_count": null,
      "metadata": {
        "colab": {
          "base_uri": "https://localhost:8080/"
        },
        "id": "f3V0g-U6duA0",
        "outputId": "58d9cfcf-661d-4c23-c2bb-cbdf7140373b"
      },
      "outputs": [
        {
          "data": {
            "text/plain": [
              "(97, 2)"
            ]
          },
          "execution_count": 288,
          "metadata": {},
          "output_type": "execute_result"
        }
      ],
      "source": [
        "# données\n",
        "data = np.genfromtxt('data.csv', delimiter=',')\n",
        "data.shape"
      ]
    },
    {
      "cell_type": "markdown",
      "metadata": {
        "id": "agZWYA90duA3"
      },
      "source": [
        "Dans ces données (data), la première colonne represente la première caractéristique (la population d'une ville x1000), la deuxieme colonne represente le chiffre d'affaires (x1000).\n",
        "\n",
        "Chaque ligne represente un exemple de notre ensemble de données. \n",
        "\n",
        "Mettons ces données dans leus vecteurs correspondants."
      ]
    },
    {
      "cell_type": "code",
      "execution_count": null,
      "metadata": {
        "id": "jjIm5e_VduA4"
      },
      "outputs": [],
      "source": [
        "# rajoutons l'ordonnée à l'origine theta 0\n",
        "intercept=np.ones((data.shape[0],1))\n",
        "X=np.column_stack((intercept,data[:,0]))\n",
        "y = data[:, 1];"
      ]
    },
    {
      "cell_type": "code",
      "execution_count": null,
      "metadata": {
        "colab": {
          "base_uri": "https://localhost:8080/",
          "height": 297
        },
        "id": "yDEf0HJKduA6",
        "outputId": "e0fbb6cc-25fd-43d8-85b6-52dd976c392b"
      },
      "outputs": [
        {
          "data": {
            "text/plain": [
              "Text(0, 0.5, \"Chiffre d'affaires x1000\")"
            ]
          },
          "execution_count": 290,
          "metadata": {},
          "output_type": "execute_result"
        },
        {
          "data": {
            "image/png": "[encoded data removed]",
            "text/plain": [
              "<Figure size 432x288 with 1 Axes>"
            ]
          },
          "metadata": {},
          "output_type": "display_data"
        }
      ],
      "source": [
        "# traçons ces données pour visualisation\n",
        "plt.scatter(X[:,1],y,marker ='x')\n",
        "plt.xlabel('Population x 1000')\n",
        "plt.ylabel('Chiffre d\\'affaires x1000')"
      ]
    },
    {
      "cell_type": "markdown",
      "metadata": {
        "id": "o_GTEQAwduA8"
      },
      "source": [
        "# Descente du Gradient : Préparation des fonctions"
      ]
    },
    {
      "cell_type": "markdown",
      "metadata": {
        "id": "KYsK_jA3duA_"
      },
      "source": [
        "1- Calcul du coût\n",
        "\n",
        "Cette fonction servira à calculer le cout $J(\\theta_0,\\theta_1)$\n",
        "\n",
        "Elle prendra l'ensemble de données d'apprentissage en entrée ainsi que les paramètres définis initialement"
      ]
    },
    {
      "cell_type": "code",
      "execution_count": null,
      "metadata": {
        "id": "6SXsN0Q1duBA"
      },
      "outputs": [],
      "source": [
        "def computeCost(X, y, theta):\n",
        "  y_pred = np.transpose(np.matmul(X,theta))\n",
        "  m = len(y)\n",
        "  J = (1 / 2*m) * (np.sum(y_pred - y)**2)\n",
        "  return J"
      ]
    },
    {
      "cell_type": "markdown",
      "metadata": {
        "id": "kgyvy45xduBB"
      },
      "source": [
        "2- Fonction de la descente du gradient\n",
        "\n",
        "Cette fonction mettra à jour les paramètres $\\theta_0,\\theta_1$ jusqu'à convergence: atteinte du nombre d'itérations max, ou dérivée assez petite."
      ]
    },
    {
      "cell_type": "code",
      "execution_count": null,
      "metadata": {
        "id": "CidFgdZkduBB"
      },
      "outputs": [],
      "source": [
        "def gradientDescent(X, y, theta, alpha, iterations):\n",
        "  m = len(y)\n",
        "  t = np.copy(theta)\n",
        "\n",
        "  for i in range(iterations):\n",
        "    y_pred = np.transpose(np.matmul(X,t))\n",
        "    t[0] = t[0] - (alpha * ((1/m) * np.sum(y_pred - y)))\n",
        "    t[1] = t[1] - (alpha * ((1/m) * np.sum((y_pred - y) * X[:,1])))\n",
        "  return t"
      ]
    },
    {
      "cell_type": "markdown",
      "metadata": {
        "id": "tdxcsW7sduBC"
      },
      "source": [
        "# Descente du Gradient : Appel des fonctions"
      ]
    },
    {
      "cell_type": "markdown",
      "metadata": {
        "id": "KNdWmWatduBD"
      },
      "source": [
        "Initialisation de $\\theta_0$ et $\\theta_1$"
      ]
    },
    {
      "cell_type": "code",
      "execution_count": null,
      "metadata": {
        "id": "WlfHt-RfiI3W"
      },
      "outputs": [],
      "source": [
        "theta = np.zeros((2, 1))"
      ]
    },
    {
      "cell_type": "markdown",
      "metadata": {
        "id": "PuN4ydz8duBE"
      },
      "source": [
        "Calculer le cout initial"
      ]
    },
    {
      "cell_type": "code",
      "execution_count": null,
      "metadata": {
        "colab": {
          "base_uri": "https://localhost:8080/"
        },
        "id": "YSbO3V6bduBE",
        "outputId": "4a3f686f-92ee-468f-e398-158d5c5891f4"
      },
      "outputs": [
        {
          "name": "stdout",
          "output_type": "stream",
          "text": [
            "initialCost : 15559020.291617688\n"
          ]
        }
      ],
      "source": [
        "initialCost=computeCost(X, y, theta)\n",
        "print(\"initialCost : {0}\".format(initialCost))"
      ]
    },
    {
      "cell_type": "markdown",
      "metadata": {
        "id": "t_KB_nPHduBF"
      },
      "source": [
        "# ***Appel des la fonction de calcul du gradient***"
      ]
    },
    {
      "cell_type": "markdown",
      "metadata": {
        "id": "xkwP1740VlyS"
      },
      "source": [
        "**Methode Decente du Gradiant (From Scratch)**"
      ]
    },
    {
      "cell_type": "code",
      "execution_count": null,
      "metadata": {
        "colab": {
          "base_uri": "https://localhost:8080/"
        },
        "id": "7GJtFrsfduBF",
        "outputId": "ef8b03de-a1cd-4e6f-facc-fdc57363558f"
      },
      "outputs": [
        {
          "name": "stdout",
          "output_type": "stream",
          "text": [
            "Theta0 : [-3.89578088]\n",
            "Theta1 : [1.19303364]\n",
            "cost initiale : 15559020.291617688 ,  cost finale : 2.2489849495884083e-22\n"
          ]
        }
      ],
      "source": [
        "# paramètres\n",
        "iterations = 20000\n",
        "alpha = 0.01\n",
        "# Appel\n",
        "theta = gradientDescent(X, y, theta, alpha, iterations)\n",
        "print(\"Theta0 : {0}\".format(theta[0]))\n",
        "print(\"Theta1 : {0}\".format(theta[1]))\n",
        "print(\"cost initiale : {0} ,  cost finale : {1}\".format(initialCost,computeCost(X, y, theta)))"
      ]
    },
    {
      "cell_type": "markdown",
      "metadata": {
        "id": "Q42D1rSpV2sB"
      },
      "source": [
        "**Methode (sklearn Library)**"
      ]
    },
    {
      "cell_type": "code",
      "execution_count": null,
      "metadata": {
        "colab": {
          "base_uri": "https://localhost:8080/"
        },
        "id": "StKusJFtVPws",
        "outputId": "83205aa6-3910-499c-b898-b708fe6bded3"
      },
      "outputs": [
        {
          "name": "stdout",
          "output_type": "stream",
          "text": [
            "Intercept : (theta 0) \n",
            " -3.8957808783118537\n",
            "Coefficients : (theta 1) \n",
            " 1.1930336441895932\n"
          ]
        }
      ],
      "source": [
        "from sklearn import linear_model\n",
        "regr = linear_model.LinearRegression()\n",
        "regr.fit(X, y)\n",
        "\n",
        "print('Intercept : (theta 0) \\n', regr.intercept_)\n",
        "print('Coefficients : (theta 1) \\n', regr.coef_[1])"
      ]
    },
    {
      "cell_type": "markdown",
      "metadata": {
        "id": "iQGhPd7vduBG"
      },
      "source": [
        "Traçage de la fonction du coût"
      ]
    },
    {
      "cell_type": "markdown",
      "metadata": {
        "id": "St7SHwFAduBG"
      },
      "source": [
        "Notons que $\\theta^T  x$ est équivalent à $X  \\theta $ où $X= \\begin{pmatrix}\n",
        "..(x^{(1)})^T..\\\\\n",
        "..(x^{(2)})^T..\\\\\n",
        ".\\\\\n",
        ".\\\\\n",
        ".\\\\\n",
        "..(x^{(m)})^T..\n",
        "\\end{pmatrix} $"
      ]
    },
    {
      "cell_type": "code",
      "execution_count": null,
      "metadata": {
        "colab": {
          "base_uri": "https://localhost:8080/",
          "height": 297
        },
        "id": "cbClelY2duBH",
        "outputId": "d282d65f-0f9e-4505-f735-a3c760122f71"
      },
      "outputs": [
        {
          "data": {
            "text/plain": [
              "[<matplotlib.lines.Line2D at 0x7fae2805b550>]"
            ]
          },
          "execution_count": 297,
          "metadata": {},
          "output_type": "execute_result"
        },
        {
          "data": {
            "image/png": "[encoded data removed]",
            "text/plain": [
              "<Figure size 432x288 with 1 Axes>"
            ]
          },
          "metadata": {},
          "output_type": "display_data"
        }
      ],
      "source": [
        "y_pred=np.matmul(X,theta)\n",
        "plt.scatter(X[:,1],y,marker ='x')\n",
        "plt.xlabel('Population x 1000')\n",
        "plt.ylabel('Chiffre d\\'affaires x1000')\n",
        "plt.plot(X[:,1],y_pred,color='r')\n",
        "# la ligne du graphe represente le traçage de la fonction hypothèse\n",
        "# la ligne devrait se rapprocher des données après entrainement avec la descente du gredient"
      ]
    },
    {
      "cell_type": "markdown",
      "metadata": {
        "id": "p-k2OmzZduBI"
      },
      "source": [
        "Traçage du coût en fonction de theta0 et theta1"
      ]
    },
    {
      "cell_type": "code",
      "execution_count": null,
      "metadata": {
        "colab": {
          "base_uri": "https://localhost:8080/",
          "height": 248
        },
        "id": "7GODPPlw2H45",
        "outputId": "fa6087e8-8967-49ab-e3db-72a6b5aa5efb"
      },
      "outputs": [
        {
          "data": {
            "image/png": "[encoded data removed]",
            "text/plain": [
              "<Figure size 432x288 with 1 Axes>"
            ]
          },
          "metadata": {},
          "output_type": "display_data"
        }
      ],
      "source": [
        "import numpy as np \n",
        "import matplotlib.pyplot as plt \n",
        "import mpl_toolkits.mplot3d\n",
        "\n",
        "# defining all 3 axes\n",
        "nbIter = 1500\n",
        "x_ = np.zeros((nbIter+1))\n",
        "y_ = np.zeros((nbIter+1))\n",
        "\n",
        "theta = np.zeros((2, 1))\n",
        "\n",
        "for i in range(0,nbIter+1):\n",
        "  x_[i] = (theta[0])\n",
        "  y_[i] = (theta[1])\n",
        "  theta = gradientDescent(X, y, theta, alpha, 1)\n",
        "\n",
        "x_ = x_[1:len(x_)]\n",
        "y_ = y_[1:len(y_)]\n",
        "\n",
        "x_ = np.array([x_[i] for i in range(0,1500,5)])\n",
        "y_ = np.array([y_[i] for i in range(0,1500,5)])\n",
        "\n",
        "x_grid = np.zeros((x_.shape[0],x_.shape[0]))\n",
        "y_grid = np.zeros((y_.shape[0],y_.shape[0]))\n",
        "z_grid = np.zeros((y_.shape[0],y_.shape[0]))\n",
        "\n",
        "for i in range(len(x_grid)):\n",
        "  for j in range(len(x_grid)):\n",
        "    x_grid[i][j] = x_[i]\n",
        "    y_grid[j][i] = y_[i]\n",
        "\n",
        "\n",
        "for i in range(len(x_grid)):\n",
        "  for j in range(len(x_grid)):\n",
        "    z_grid[i][j] = computeCost(X, y, [ x_grid[i][j] ,  y_grid[i][j] ])\n",
        "\n",
        "output = plt.subplot(111, projection = '3d')   # 3d projection\n",
        "output.view_init(30, 60)\n",
        "output.plot_surface(x_grid, y_grid, z_grid, rstride = 2, cstride = 2, cmap = plt.cm.Reds_r)\n",
        "output.set_xlabel('x')                         # axis label\n",
        "output.set_xlabel('y')\n",
        "output.set_xlabel('z')\n",
        "plt.show()"
      ]
    },
    {
      "cell_type": "code",
      "execution_count": null,
      "metadata": {
        "id": "MgfBwC4pY4aB"
      },
      "outputs": [],
      "source": [
        "# The function J\n",
        "def J(theta0, theta1, x, y, m):\n",
        "    J = 0\n",
        "    for i in range(m):\n",
        "        J += ((theta0 + theta1*x[i]) - y[i] )**2\n",
        "    return J"
      ]
    },
    {
      "cell_type": "code",
      "execution_count": null,
      "metadata": {
        "colab": {
          "base_uri": "https://localhost:8080/",
          "height": 293
        },
        "id": "qyb-fUuMZL1V",
        "outputId": "6b0a66da-ba68-4abe-f136-89231373b676"
      },
      "outputs": [
        {
          "data": {
            "text/plain": [
              "[<matplotlib.lines.Line2D at 0x7fae25c55d90>]"
            ]
          },
          "execution_count": 300,
          "metadata": {},
          "output_type": "execute_result"
        },
        {
          "data": {
            "image/png": "[encoded data removed]",
            "text/plain": [
              "<Figure size 432x288 with 1 Axes>"
            ]
          },
          "metadata": {},
          "output_type": "display_data"
        }
      ],
      "source": [
        "a = np.linspace(-13,14.5,100)\n",
        "plt.plot(a, J(0.1,a,X[:,1],y,m=len(X)) ) "
      ]
    },
    {
      "cell_type": "code",
      "execution_count": null,
      "metadata": {
        "colab": {
          "base_uri": "https://localhost:8080/",
          "height": 286
        },
        "id": "Cuuyhs2fakNn",
        "outputId": "e957bcd5-17b7-425b-a76d-2422e682d933"
      },
      "outputs": [
        {
          "data": {
            "text/plain": [
              "<matplotlib.contour.QuadContourSet at 0x7fae270d0690>"
            ]
          },
          "execution_count": 302,
          "metadata": {},
          "output_type": "execute_result"
        },
        {
          "data": {
            "image/png": "[encoded data removed]",
            "text/plain": [
              "<Figure size 432x288 with 1 Axes>"
            ]
          },
          "metadata": {},
          "output_type": "display_data"
        }
      ],
      "source": [
        "a0 = np.linspace(-3000,3000, 100)\n",
        "a1 = np.linspace(-300,300, 100)\n",
        "aa0, aa1 = np.meshgrid(a0, a1)\n",
        "plt.contour(aa0,aa1,0.00000001*J(aa0,aa1,X[:,1],y,m=len(X)) , colors='C0', levels=[i for i in np.arange(0,800,1)])"
      ]
    },
    {
      "cell_type": "markdown",
      "metadata": {
        "id": "lFM0M2h2duBK"
      },
      "source": [
        "Prédire des valeurs de x"
      ]
    },
    {
      "cell_type": "code",
      "execution_count": null,
      "metadata": {
        "colab": {
          "base_uri": "https://localhost:8080/"
        },
        "id": "KATw5hTuduBK",
        "outputId": "18936c15-35db-49fe-c1ab-6c48c818df76"
      },
      "outputs": [
        {
          "data": {
            "text/plain": [
              "array([0.45166649])"
            ]
          },
          "execution_count": 303,
          "metadata": {},
          "output_type": "execute_result"
        }
      ],
      "source": [
        "# Predire pour une opulation = 35,000 et 70,000\n",
        "predict1 = np.matmul([1, 3.5],theta);\n",
        "predict1"
      ]
    },
    {
      "cell_type": "code",
      "execution_count": null,
      "metadata": {
        "colab": {
          "base_uri": "https://localhost:8080/"
        },
        "id": "LDBl655uduBL",
        "outputId": "0cb8feec-fe18-4350-8d74-3472ce4c7bbd"
      },
      "outputs": [
        {
          "data": {
            "text/plain": [
              "array([4.53410299])"
            ]
          },
          "execution_count": 304,
          "metadata": {},
          "output_type": "execute_result"
        }
      ],
      "source": [
        "predict2 = np.matmul([1, 7],theta);\n",
        "predict2"
      ]
    },
    {
      "cell_type": "markdown",
      "metadata": {
        "id": "JBr9rS3rduBM"
      },
      "source": [
        "# Régression linéaire à plusieurs variables"
      ]
    },
    {
      "cell_type": "markdown",
      "metadata": {
        "id": "lAIUELF5duBM"
      },
      "source": [
        "Proposer, l'aide des fonctions définies precedemment, une regression linéaire lorsque le nombre de descripeurs est supérieur à 1, en utilisant la base d'apprentissage suivante"
      ]
    },
    {
      "cell_type": "code",
      "execution_count": null,
      "metadata": {
        "colab": {
          "base_uri": "https://localhost:8080/"
        },
        "id": "DdQyV6TJduBM",
        "outputId": "1a1ab9f9-2cbd-49a2-8765-3ad076801261"
      },
      "outputs": [
        {
          "data": {
            "text/plain": [
              "(47, 3)"
            ]
          },
          "execution_count": 305,
          "metadata": {},
          "output_type": "execute_result"
        }
      ],
      "source": [
        "# données\n",
        "dataMulti = np.genfromtxt('dataMulti.csv', delimiter=',')\n",
        "dataMulti.shape"
      ]
    },
    {
      "cell_type": "markdown",
      "metadata": {
        "id": "7G7bBJlWduBN"
      },
      "source": [
        "Pour cette ensemble de données, nous voudrions prédire le prix d'une maison (3ème colonne de dataMulti) à partir de :\n",
        "- sa supérficie (1ère colonne)\n",
        "- son nombre de chambres (2ème colonne)"
      ]
    },
    {
      "cell_type": "code",
      "execution_count": null,
      "metadata": {
        "colab": {
          "base_uri": "https://localhost:8080/"
        },
        "id": "A1LoD3fwduBO",
        "outputId": "214ec10e-8d42-46dd-d294-1d033af4525a"
      },
      "outputs": [
        {
          "name": "stderr",
          "output_type": "stream",
          "text": [
            "/usr/local/lib/python3.7/dist-packages/ipykernel_launcher.py:4: DeprecationWarning: `np.int` is a deprecated alias for the builtin `int`. To silence this warning, use `int` by itself. Doing this will not modify any behavior and is safe. When replacing `np.int`, you may wish to use e.g. `np.int64` or `np.int32` to specify the precision. If you wish to review your current use, check the release note link for additional information.\n",
            "Deprecated in NumPy 1.20; for more details and guidance: https://numpy.org/devdocs/release/1.20.0-notes.html#deprecations\n",
            "  after removing the cwd from sys.path.\n"
          ]
        }
      ],
      "source": [
        "# d'abord créer X et y\n",
        "intercept=np.ones((dataMulti.shape[0],1))\n",
        "X=np.column_stack((intercept,dataMulti[:,0:2]))\n",
        "X = np.array(X,dtype = np.int)\n",
        "y = dataMulti[:, 2]\n",
        "theta = np.zeros((3, 1))"
      ]
    },
    {
      "cell_type": "code",
      "execution_count": null,
      "metadata": {
        "colab": {
          "base_uri": "https://localhost:8080/"
        },
        "id": "hsGf48y05YcS",
        "outputId": "dcda85fc-fa9d-4449-fc11-95fe242dccbe"
      },
      "outputs": [
        {
          "name": "stdout",
          "output_type": "stream",
          "text": [
            "initialCost : 6015548808460000.0\n"
          ]
        }
      ],
      "source": [
        "initialCost=computeCost(X, y, theta)\n",
        "print(\"initialCost : {0}\".format(initialCost))"
      ]
    },
    {
      "cell_type": "code",
      "execution_count": null,
      "metadata": {
        "id": "8Rqkk1VSduBO"
      },
      "outputs": [],
      "source": [
        "# pas besoin de redéfinir la fonction de coût"
      ]
    },
    {
      "cell_type": "markdown",
      "metadata": {
        "id": "ghSOnZyjduBO"
      },
      "source": [
        "Mise à l'échelle des données"
      ]
    },
    {
      "cell_type": "code",
      "execution_count": null,
      "metadata": {
        "colab": {
          "base_uri": "https://localhost:8080/"
        },
        "id": "0N-Vv1vdduBP",
        "outputId": "7a9cc6c1-d377-4189-a8db-09d20f937d94"
      },
      "outputs": [
        {
          "name": "stdout",
          "output_type": "stream",
          "text": [
            "mise a l'echelle de X\n",
            "[[1.         0.34528406 0.5       ]\n",
            " [1.         0.20628792 0.5       ]\n",
            " [1.         0.42691671 0.5       ]\n",
            " [1.         0.1555433  0.25      ]\n",
            " [1.         0.59238831 0.75      ]\n",
            " [1.         0.31246553 0.75      ]\n",
            " [1.         0.18808605 0.5       ]\n",
            " [1.         0.15857694 0.5       ]\n",
            " [1.         0.145615   0.5       ]\n",
            " [1.         0.17705461 0.5       ]\n",
            " [1.         0.30005516 0.75      ]\n",
            " [1.         0.31660232 0.5       ]\n",
            " [1.         0.28626586 0.5       ]\n",
            " [1.         1.         1.        ]\n",
            " [1.         0.11472697 0.5       ]\n",
            " [1.         0.39933811 0.75      ]\n",
            " [1.         0.12906784 0.25      ]\n",
            " [1.         0.10590182 0.5       ]\n",
            " [1.         0.48455598 0.75      ]\n",
            " [1.         0.60093767 0.75      ]\n",
            " [1.         0.25234418 0.5       ]\n",
            " [1.         0.28571429 0.25      ]\n",
            " [1.         0.20739106 0.5       ]\n",
            " [1.         0.30612245 0.75      ]\n",
            " [1.         0.83783784 0.5       ]\n",
            " [1.         0.06839493 0.5       ]\n",
            " [1.         0.16712631 0.5       ]\n",
            " [1.         0.46166575 0.5       ]\n",
            " [1.         0.37175951 0.5       ]\n",
            " [1.         0.49227799 0.5       ]\n",
            " [1.         0.27220077 0.25      ]\n",
            " [1.         0.04081633 0.        ]\n",
            " [1.         0.32763376 0.75      ]\n",
            " [1.         0.63017099 0.5       ]\n",
            " [1.         0.26447876 0.75      ]\n",
            " [1.         0.1613348  0.5       ]\n",
            " [1.         0.10672918 0.5       ]\n",
            " [1.         0.35300607 0.75      ]\n",
            " [1.         0.92746828 0.75      ]\n",
            " [1.         0.36127965 0.75      ]\n",
            " [1.         0.22393822 0.25      ]\n",
            " [1.         0.38223938 0.5       ]\n",
            " [1.         0.47297297 0.75      ]\n",
            " [1.         0.09597352 0.5       ]\n",
            " [1.         0.         0.25      ]\n",
            " [1.         0.27578599 0.75      ]\n",
            " [1.         0.09680088 0.5       ]]\n",
            "mise a l'echelle de Y\n",
            "[0.43396226 0.30188679 0.37566038 0.11716981 0.69811321 0.24528302\n",
            " 0.27358491 0.05490566 0.07943396 0.13698113 0.13226415 0.33415094\n",
            " 0.30207547 1.         0.16981132 0.52830189 0.24528302 0.05660377\n",
            " 0.62283019 0.80962264 0.15660377 0.16056604 0.13773585 0.16981132\n",
            " 0.76226415 0.1509434  0.55584906 0.56433962 0.57566038 0.24528302\n",
            " 0.33962264 0.         0.27358491 0.77358491 0.21886792 0.1509434\n",
            " 0.11320755 0.33037736 0.71528302 0.2209434  0.37471698 0.30188679\n",
            " 0.27188679 0.24358491 0.01886792 0.24528302 0.13132075]\n"
          ]
        }
      ],
      "source": [
        "X_scaled = np.ones(X.shape)\n",
        "max1 = X[:,1].max()\n",
        "max2 = X[:,2].max()\n",
        "min1 = X[:,1].min()\n",
        "min2 = X[:,2].min()\n",
        "\n",
        "for i in range(len(X)):\n",
        "  X_scaled[i][1] = (X[i][1]-min1)/(max1-min1) \n",
        "  X_scaled[i][2] = (X[i][2]-min2)/(max2-min2) \n",
        "\n",
        "print(\"mise a l'echelle de X\")\n",
        "print(X_scaled)\n",
        "\n",
        "y_scaled = np.zeros(y.shape)\n",
        "max3 = y.max()\n",
        "min3 = y.min()\n",
        "\n",
        "for i in range(len(y)):\n",
        "  y_scaled[i] = (y[i]-min3)/(max3-min3) \n",
        "\n",
        "print(\"mise a l'echelle de Y\")\n",
        "print(y_scaled)"
      ]
    },
    {
      "cell_type": "markdown",
      "metadata": {
        "id": "vp8__yHHduBP"
      },
      "source": [
        "Normalisation des données en moyenne = 0"
      ]
    },
    {
      "cell_type": "code",
      "execution_count": null,
      "metadata": {
        "colab": {
          "base_uri": "https://localhost:8080/"
        },
        "id": "Fc2X2YOfduBQ",
        "outputId": "82bb82dd-1ad5-491f-c805-e4f6ce07e3b2"
      },
      "outputs": [
        {
          "name": "stdout",
          "output_type": "stream",
          "text": [
            "normalisatio de X\n",
            "[[ 1.         -0.83427726 -0.36404999]\n",
            " [ 1.         -1.25672742 -0.36404999]\n",
            " [ 1.         -0.5861716  -0.36404999]\n",
            " [ 1.         -1.41095526 -1.12387355]\n",
            " [ 1.         -0.08325474  0.39577358]\n",
            " [ 1.         -0.93402243  0.39577358]\n",
            " [ 1.         -1.31204828 -0.36404999]\n",
            " [ 1.         -1.40173512 -0.36404999]\n",
            " [ 1.         -1.44113027 -0.36404999]\n",
            " [ 1.         -1.34557607 -0.36404999]\n",
            " [ 1.         -0.9717412   0.39577358]\n",
            " [ 1.         -0.92144951 -0.36404999]\n",
            " [ 1.         -1.01365094 -0.36404999]\n",
            " [ 1.          1.15559714  1.15559714]\n",
            " [ 1.         -1.53500809 -0.36404999]\n",
            " [ 1.         -0.66999108  0.39577358]\n",
            " [ 1.         -1.49142196 -1.12387355]\n",
            " [ 1.         -1.56183032 -0.36404999]\n",
            " [ 1.         -0.41098889  0.39577358]\n",
            " [ 1.         -0.0572707   0.39577358]\n",
            " [ 1.         -1.1167489  -0.36404999]\n",
            " [ 1.         -1.01532733 -1.12387355]\n",
            " [ 1.         -1.25337464 -0.36404999]\n",
            " [ 1.         -0.95330091  0.39577358]\n",
            " [ 1.          0.66273861 -0.36404999]\n",
            " [ 1.         -1.67582481 -0.36404999]\n",
            " [ 1.         -1.37575108 -0.36404999]\n",
            " [ 1.         -0.48055906 -0.36404999]\n",
            " [ 1.         -0.75381056 -0.36404999]\n",
            " [ 1.         -0.38751944 -0.36404999]\n",
            " [ 1.         -1.05639887 -1.12387355]\n",
            " [ 1.         -1.75964429 -1.88369712]\n",
            " [ 1.         -0.88792172  0.39577358]\n",
            " [ 1.          0.03157795 -0.36404999]\n",
            " [ 1.         -1.07986833  0.39577358]\n",
            " [ 1.         -1.39335317 -0.36404999]\n",
            " [ 1.         -1.55931574 -0.36404999]\n",
            " [ 1.         -0.8108078   0.39577358]\n",
            " [ 1.          0.93515192  0.39577358]\n",
            " [ 1.         -0.78566196  0.39577358]\n",
            " [ 1.         -1.20308296 -1.12387355]\n",
            " [ 1.         -0.72195916 -0.36404999]\n",
            " [ 1.         -0.44619307  0.39577358]\n",
            " [ 1.         -1.59200533 -0.36404999]\n",
            " [ 1.         -1.88369712 -1.12387355]\n",
            " [ 1.         -1.04550234  0.39577358]\n",
            " [ 1.         -1.58949075 -0.36404999]]\n",
            "\n",
            "normalisatio de Y\n",
            "[ 0.48088932 -0.08498423  0.23109657 -0.87639881  1.61263643 -0.32750147\n",
            " -0.20624285 -1.14316777 -1.03807697 -0.79151778 -0.81172755  0.05325059\n",
            " -0.08417584  2.90606169 -0.65085778  0.88508472 -0.32750147 -1.13589226\n",
            "  1.2900885   2.09039538 -0.70744514 -0.69046893 -0.78828422 -0.65085778\n",
            "  1.88748929 -0.73169686  1.00310977  1.03948736  1.0879908  -0.32750147\n",
            "  0.07669393 -1.37840949 -0.20624285  1.93599274 -0.44067618 -0.73169686\n",
            " -0.89337502  0.03708278  1.68619999 -0.43178388  0.22705461 -0.08498423\n",
            " -0.21351837 -0.33477699 -1.29757042 -0.32750147 -0.81576951]\n"
          ]
        }
      ],
      "source": [
        "mean_ = np.mean(X_scaled)\n",
        "std_ = np.std(X_scaled)\n",
        "X_scaled_normalized = np.array([ [ 1 , ((i-mean_)/std_)[0] , ((i-mean_)/std_)[1] ] for i in X_scaled[:,1:3]])\n",
        "X_scaled_normalized = np.array(X_scaled_normalized)\n",
        "\n",
        "mean_ = np.mean(y_scaled)\n",
        "std_ = np.std(y_scaled)\n",
        "y_scaled_normalized = [(i-mean_)/std_ for i in y_scaled]\n",
        "y_scaled_normalized = np.array(y_scaled_normalized)\n",
        "\n",
        "print(\"normalisatio de X\")\n",
        "print(X_scaled_normalized)\n",
        "print()\n",
        "print(\"normalisatio de Y\")\n",
        "print(y_scaled_normalized)"
      ]
    },
    {
      "cell_type": "markdown",
      "metadata": {
        "id": "ackiMt4eduBQ"
      },
      "source": [
        "#***Appliquer la descente du gradient à plusieurs variables***\n"
      ]
    },
    {
      "cell_type": "markdown",
      "metadata": {
        "id": "CAc4eGBdWmQ4"
      },
      "source": [
        "**Methode Decente du Gradiant plusieurs variables (From Scratch)**"
      ]
    },
    {
      "cell_type": "code",
      "execution_count": null,
      "metadata": {
        "colab": {
          "base_uri": "https://localhost:8080/"
        },
        "id": "EebbDGufduBQ",
        "outputId": "0189e315-debd-4fad-e357-dc43948461fe"
      },
      "outputs": [
        {
          "name": "stdout",
          "output_type": "stream",
          "text": [
            "Theta0 : [1.212694]\n",
            "Theta1 : [1.34028539]\n",
            "Theta2 : [-0.09073849]\n",
            "cost finale : 0.003204533751473987\n"
          ]
        }
      ],
      "source": [
        "import datetime\n",
        "\n",
        "theta = np.zeros((3, 1))\n",
        "\n",
        "def gradientDescent_multi(X, y, theta, alpha, iterations):\n",
        "  m = len(y)\n",
        "  t = np.copy(theta)\n",
        "\n",
        "  for i in range(iterations):\n",
        "    y_pred = np.transpose(np.matmul(X,t))\n",
        "    t[0] = t[0] - (alpha * ((1/m) * np.sum(y_pred - y)))\n",
        "    t[1] = t[1] - (alpha * ((1/m) * np.sum((y_pred - y) * X[:,1])))\n",
        "    t[2] = t[2] - (alpha * ((1/m) * np.sum((y_pred - y) * X[:,2])))\n",
        "  return t\n",
        "\n",
        "\n",
        "a = datetime.datetime.now().replace(microsecond=0)\n",
        "t = gradientDescent_multi(X_scaled_normalized, y_scaled_normalized, theta, 0.01, 4500)\n",
        "print(\"Theta0 : {0}\".format(t[0]))\n",
        "print(\"Theta1 : {0}\".format(t[1]))\n",
        "print(\"Theta2 : {0}\".format(t[2]))\n",
        "b = datetime.datetime.now().replace(microsecond=0)\n",
        "tempNorm = b - a\n",
        "\n",
        "err = computeCost(X_scaled_normalized, y_scaled_normalized,t)\n",
        "print(\"cost finale : {0}\".format(err))"
      ]
    },
    {
      "cell_type": "markdown",
      "metadata": {
        "id": "0N5pTCIbW_Rx"
      },
      "source": [
        "***Methode plusieurs variables (sklern Library)***"
      ]
    },
    {
      "cell_type": "code",
      "execution_count": null,
      "metadata": {
        "colab": {
          "base_uri": "https://localhost:8080/"
        },
        "id": "ARFECPVWXevt",
        "outputId": "1e03d2c1-3eca-4464-f61f-7471edc873c5"
      },
      "outputs": [
        {
          "name": "stdout",
          "output_type": "stream",
          "text": [
            "Intercept : (theta 0)  1.2145576752909204\n",
            "Coefficients : (theta 1)  1.342606730102359\n",
            "Coefficients : (theta 2)  -0.09296434947007005\n"
          ]
        }
      ],
      "source": [
        "from sklearn import linear_model\n",
        "\n",
        "regr = linear_model.LinearRegression()\n",
        "regr.fit(X_scaled_normalized[:,1:3], y_scaled_normalized)\n",
        "\n",
        "print('Intercept : (theta 0) ', regr.intercept_)\n",
        "print('Coefficients : (theta 1) ', regr.coef_[0])\n",
        "print('Coefficients : (theta 2) ', regr.coef_[1])"
      ]
    },
    {
      "cell_type": "code",
      "execution_count": null,
      "metadata": {
        "colab": {
          "base_uri": "https://localhost:8080/"
        },
        "id": "yblJ4ifme3Au",
        "outputId": "6f62b5ab-f128-4f04-9378-94e2b6a63b74"
      },
      "outputs": [
        {
          "name": "stdout",
          "output_type": "stream",
          "text": [
            "temps pris (avec variables normalisee) : 0:00:00\n"
          ]
        }
      ],
      "source": [
        "print(\"temps pris (avec variables normalisee) : {0}\".format(tempNorm))"
      ]
    },
    {
      "cell_type": "code",
      "execution_count": 321,
      "metadata": {
        "colab": {
          "base_uri": "https://localhost:8080/"
        },
        "id": "i6MYtnbIduBR",
        "outputId": "5ddfe0b0-ced9-49bb-d1f2-e5e0f4c89d1f"
      },
      "outputs": [
        {
          "output_type": "stream",
          "name": "stdout",
          "text": [
            "iter 0 , cost : 6015548808460000.0 , t : [0.0,0.0,0.0] , temps pris : 0:00:00\n",
            "iter 1000000 , cost : 2888226946933.582 , t : [3644.3608433536265,155.63526951472596,5656.669426300377] , temps pris : 0:00:39\n",
            "iter 2000000 , cost : 1943653179296.7524 , t : [6561.840331968702,149.4824189946344,9042.091091127733] , temps pris : 0:01:17\n",
            "iter 3000000 , cost : 1427115493750.943 , t : [9007.456834284058,145.5993859364839,10997.428898090404] , temps pris : 0:01:56\n",
            "iter 4000000 , cost : 1127918832886.991 , t : [11142.463565935193,143.14954796435944,12053.589112841315] , temps pris : 0:02:35\n",
            "iter 5000000 , cost : 944514590622.44 , t : [13068.946806604858,141.6046346000072,12545.723483654696] , temps pris : 0:03:13\n",
            "iter 6000000 , cost : 825558185108.9861 , t : [14851.627278345915,140.6310790639329,12685.379482443506] , temps pris : 0:03:52\n",
            "iter 7000000 , cost : 743855736513.5884 , t : [16531.626383100564,140.01825699578,12606.058348650371] , temps pris : 0:04:31\n",
            "iter 8000000 , cost : 684398458445.4305 , t : [18135.15878069166,139.63317397878356,12391.981929776148] , temps pris : 0:05:09\n",
            "iter 9000000 , cost : 638616394974.2345 , t : [19679.0212858171,139.391853725114,12096.256994321939] , temps pris : 0:05:48\n",
            "iter 10000000 , cost : 601484293936.4789 , t : [21174.05885118646,139.24127161798674,11752.344754337026] , temps pris : 0:06:27\n",
            "iter 11000000 , cost : 569994883482.0085 , t : [22627.353212786496,139.14794694531446,11381.303073737088] , temps pris : 0:07:06\n",
            "iter 12000000 , cost : 542319671195.84607 , t : [24043.604978961244,139.09073965420163,10996.359409477662] , temps pris : 0:07:44\n",
            "iter 13000000 , cost : 517331849734.26733 , t : [25426.006430698453,139.0563019808088,10605.798288701932] , temps pris : 0:08:23\n",
            "iter 14000000 , cost : 494327969518.593 , t : [26776.79273774397,139.03620645741273,10214.784528091492] , temps pris : 0:09:01\n",
            "iter 15000000 , cost : 472862486620.1164 , t : [28097.590113585935,139.02513244019994,9826.514445827588] , temps pris : 0:09:40\n",
            "iter 16000000 , cost : 452648102128.14276 , t : [29389.635748779816,139.01972102248578,9442.94274620593] , temps pris : 0:10:18\n",
            "iter 17000000 , cost : 433495184089.27875 , t : [30653.916778767652,139.0178519888923,9065.24147035536] , temps pris : 0:10:56\n",
            "iter 18000000 , cost : 415274716824.97925 , t : [31891.258125414006,139.0181872603309,8694.0897651207] , temps pris : 0:11:34\n",
            "iter 19000000 , cost : 397895542780.36273 , t : [33102.37805372377,139.0198826101551,8329.856825457855] , temps pris : 0:12:12\n",
            "iter 20000000 , cost : 381290339922.64716 , t : [34287.92334096358,139.0224056323962,7972.7173835741405] , temps pris : 0:12:50\n",
            "iter 21000000 , cost : 365406960010.0477 , t : [35448.49157050151,139.02542080112812,7622.724606389878] , temps pris : 0:13:29\n",
            "iter 22000000 , cost : 350203065708.1719 , t : [36584.64529392721,139.02871689336806,7279.856099737513] , temps pris : 0:14:07\n",
            "iter 23000000 , cost : 335642801377.7558 , t : [37696.921056774496,139.03216116176753,6944.042931793123] , temps pris : 0:14:45\n",
            "iter 24000000 , cost : 321694719281.66846 , t : [38785.83517917903,139.03567039798168,6615.187934809768] , temps pris : 0:15:24\n",
            "iter 25000000 , cost : 308330481556.33 , t : [39851.88748579871,139.03919266141452,6293.177237328039] , temps pris : 0:16:03\n",
            "iter 26000000 , cost : 295524042075.36957 , t : [40895.563739144854,139.04269574236685,5977.887522390198] , temps pris : 0:16:41\n",
            "iter 27000000 , cost : 283251125437.17255 , t : [41917.33725257318,139.04615987758316,5669.190587504643] , temps pris : 0:17:20\n",
            "iter 28000000 , cost : 271488890241.41525 , t : [42917.669983665306,139.0495731508332,5366.956201328968] , temps pris : 0:17:58\n",
            "iter 29000000 , cost : 260215706841.4705 , t : [43897.013297966245,139.05292858895808,5071.053885322275] , temps pris : 0:18:37\n",
            "iter 30000000 , cost : 249411006465.91943 , t : [44855.80852300537,139.0562223284561,4781.354017044748] , temps pris : 0:19:18\n",
            "iter 31000000 , cost : 239055175002.49918 , t : [45794.487368405615,139.05945245804196,4497.728505587129] , temps pris : 0:19:56\n",
            "iter 32000000 , cost : 229129474926.24277 , t : [46713.47225996191,139.0626182880464,4220.0511972684] , temps pris : 0:20:34\n",
            "iter 33000000 , cost : 219615985145.55038 , t : [47613.17661795011,139.06571988932612,3948.1981114499386] , temps pris : 0:21:12\n",
            "iter 34000000 , cost : 210497552425.85507 , t : [48494.00509880617,139.0687578023184,3682.047569513546] , temps pris : 0:21:51\n",
            "iter 35000000 , cost : 201757750421.9163 , t : [49356.35381229763,139.0717328535838,3421.4802567912698] , temps pris : 0:22:29\n",
            "iter 36000000 , cost : 193380843885.05048 , t : [50200.61052185937,139.074646040173,3166.3792425712863] , temps pris : 0:23:07\n",
            "iter 37000000 , cost : 185351756507.82764 , t : [51027.15483298098,139.07749845680354,2916.629974030782] , temps pris : 0:23:46\n",
            "iter 38000000 , cost : 177656041410.94397 , t : [51836.358372740244,139.08029125012365,2672.1202540993972] , temps pris : 0:24:24\n",
            "iter 39000000 , cost : 170279853690.5941 , t : [52628.58496248193,139.0830255900059,2432.740209558414] , temps pris : 0:25:02\n",
            "iter 40000000 , cost : 163209924602.62457 , t : [53404.19078492937,139.08570265163578,2198.3822533508815] , temps pris : 0:25:40\n",
            "iter 41000000 , cost : 156433537131.0763 , t : [54163.52454655032,139.08832360440363,1968.941043605479] , temps pris : 0:26:18\n",
            "iter 42000000 , cost : 149938502774.10632 , t : [54906.92763574014,139.09088960506182,1744.3134409429024] , temps pris : 0:26:57\n",
            "iter 43000000 , cost : 143713139401.20895 , t : [55634.73427718887,139.0934017936186,1524.3984650548957] , temps pris : 0:27:35\n",
            "iter 44000000 , cost : 137746250110.47058 , t : [56347.27168271441,139.09586129091144,1309.0972511661937] , temps pris : 0:28:13\n",
            "iter 45000000 , cost : 132027103011.7112 , t : [57044.86019872147,139.09826919725276,1098.3130067611635] , temps pris : 0:28:51\n",
            "iter 46000000 , cost : 126545411867.49054 , t : [57727.81345046313,139.1006265917674,891.9509688092442] , temps pris : 0:29:30\n",
            "iter 47000000 , cost : 121291317567.7793 , t : [58396.43848313695,139.1029345321411,689.9183616314576] , temps pris : 0:30:08\n",
            "iter 48000000 , cost : 116255370372.63887 , t : [59051.03590008317,139.1051940546179,492.12435548380915] , temps pris : 0:30:46\n",
            "iter 49000000 , cost : 111428512909.3825 , t : [59691.89999794374,139.10740617417818,298.4800259088025] , temps pris : 0:31:24\n",
            "iter 50000000 , cost : 106802063874.03064 , t : [60319.31889901831,139.1095718848066,108.89831387492039] , temps pris : 0:32:03\n",
            "iter 51000000 , cost : 102367702409.39056 , t : [60933.57468082679,139.1116921598319,-76.70601328952421] , temps pris : 0:32:41\n",
            "iter 52000000 , cost : 98117453141.77312 , t : [61534.943502934206,139.11376795227716,-258.4164001683063] , temps pris : 0:33:19\n",
            "iter 53000000 , cost : 94043671832.95271 , t : [62123.695731125394,139.11580019524496,-436.3145407433136] , temps pris : 0:33:57\n",
            "iter 54000000 , cost : 90139031629.36786 , t : [62700.09605895762,139.1177898023145,-610.4804151039874] , temps pris : 0:34:36\n",
            "iter 55000000 , cost : 86396509886.9654 , t : [63264.4036267542,139.11973766792838,-780.9923253932477] , temps pris : 0:35:14\n",
            "iter 56000000 , cost : 82809375537.00093 , t : [63816.87213813879,139.12164466778034,-947.9269310026659] , temps pris : 0:35:52\n",
            "iter 57000000 , cost : 79371176982.70781 , t : [64357.74997407551,139.12351165920325,-1111.3592830335735] , temps pris : 0:36:31\n",
            "iter 58000000 , cost : 76075730493.55003 , t : [64887.280304548076,139.12533948155198,-1271.3628580354293] , temps pris : 0:37:10\n",
            "iter 59000000 , cost : 72917109082.85408 , t : [65405.7011978891,139.1271289565799,-1428.0095910384805] , temps pris : 0:37:48\n",
            "iter 60000000 , cost : 69889631851.90224 , t : [65913.24572778815,139.12888088880052,-1581.3699078924035] , temps pris : 0:38:26\n",
            "iter 61000000 , cost : 66987853768.0843 , t : [66410.14207811441,139.13059606584756,-1731.5127569277122] , temps pris : 0:39:05\n",
            "iter 62000000 , cost : 64206555872.75142 , t : [66896.61364547671,139.13227525884042,-1878.5056399544574] , temps pris : 0:39:43\n",
            "iter 63000000 , cost : 61540735896.60372 , t : [67372.87913967588,139.13391922271322,-2022.4146426090688] , temps pris : 0:40:21\n",
            "iter 64000000 , cost : 58985599262.72606 , t : [67839.15268202174,139.13552869656058,-2163.3044640657113] , temps pris : 0:41:00\n",
            "iter 65000000 , cost : 56536550460.12415 , t : [68295.6439016034,139.1371044039801,-2301.238446122702] , temps pris : 0:41:39\n",
            "iter 66000000 , cost : 54189184781.9232 , t : [68742.5580295343,139.13864705338432,-2436.2786016808072] , temps pris : 0:42:17\n",
            "iter 67000000 , cost : 51939280402.481155 , t : [69180.095991224,139.14015733832179,-2568.4856426235424] , temps pris : 0:42:56\n",
            "iter 68000000 , cost : 49782790782.88576 , t : [69608.45449670358,139.14163593779656,-2697.919007110594] , temps pris : 0:43:34\n",
            "iter 69000000 , cost : 47715837396.32803 , t : [70027.82612907328,139.14308351655637,-2824.6368863024686] , temps pris : 0:44:12\n",
            "iter 70000000 , cost : 45734702747.84622 , t : [70438.3994310753,139.14450072541516,-2948.6962505201295] , temps pris : 0:44:50\n",
            "iter 71000000 , cost : 43835823692.76176 , t : [70840.35898987214,139.14588820152005,-3070.1528748597602] , temps pris : 0:45:28\n",
            "iter 72000000 , cost : 42015785024.458786 , t : [71233.8855200208,139.1472465686622,-3189.0613642675776] , temps pris : 0:46:07\n",
            "iter 73000000 , cost : 40271313335.00507 , t : [71619.1559447155,139.14857643754289,-3305.475178088782] , temps pris : 0:46:45\n",
            "iter 74000000 , cost : 38599271125.68995 , t : [71996.34347534896,139.14987840605028,-3419.4466541026704] , temps pris : 0:47:23\n",
            "iter 75000000 , cost : 36996651165.735085 , t : [72365.61768937315,139.15115305952568,-3531.0270320527834] , temps pris : 0:48:01\n",
            "iter 76000000 , cost : 35460571081.99129 , t : [72727.14460653646,139.1524009710368,-3640.266476683324] , temps pris : 0:48:39\n",
            "iter 77000000 , cost : 33988268176.697598 , t : [73081.08676353,139.15362270162137,-3747.214100292062] , temps pris : 0:49:18\n",
            "iter 78000000 , cost : 32577094457.700657 , t : [73427.60328705778,139.15481880054924,-3851.917984812201] , temps pris : 0:49:56\n",
            "iter 79000000 , cost : 31224511875.187904 , t : [73766.84996538235,139.15598980556763,-3954.425203426673] , temps pris : 0:50:34\n",
            "iter 80000000 , cost : 29928087758.558346 , t : [74098.97931835311,139.15713624314208,-4054.7818417335648] , temps pris : 0:51:12\n",
            "iter 81000000 , cost : 28685490439.716072 , t : [74424.14066599308,139.15825862869173,-4153.033018464195] , temps pris : 0:51:51\n",
            "iter 82000000 , cost : 27494485060.56487 , t : [74742.48019561284,139.15935746682425,-4249.2229057683335] , temps pris : 0:52:29\n",
            "iter 83000000 , cost : 26352929552.951733 , t : [75054.14102754569,139.16043325155982,-4343.3947490729315] , temps pris : 0:53:07\n",
            "iter 84000000 , cost : 25258770785.53492 , t : [75359.26327949684,139.16148646655495,-4435.590886524661] , temps pris : 0:53:45\n",
            "iter 85000000 , cost : 24210040873.077206 , t : [75657.98412952179,139.16251758531615,-4525.852768025272] , temps pris : 0:54:23\n",
            "iter 86000000 , cost : 23204853634.98514 , t : [75950.43787771554,139.16352707141718,-4614.220973865424] , temps pris : 0:55:02\n",
            "iter 87000000 , cost : 22241401203.94221 , t : [76236.75600658184,139.16451537870978,-4700.735232971596] , temps pris : 0:55:40\n",
            "iter 88000000 , cost : 21317950774.175716 , t : [76517.06724014849,139.16548295151702,-4785.434440760708] , temps pris : 0:56:18\n",
            "iter 89000000 , cost : 20432841485.131695 , t : [76791.49760184286,139.16643022484644,-4868.356676637239] , temps pris : 0:56:56\n",
            "iter 90000000 , cost : 19584481434.579372 , t : [77060.17047113772,139.16735762457753,-4949.539221105336] , temps pris : 0:57:35\n",
            "iter 91000000 , cost : 18771344814.397587 , t : [77323.2066390412,139.16826556765517,-5029.018572531725] , temps pris : 0:58:13\n",
            "iter 92000000 , cost : 17991969168.325096 , t : [77580.72436238179,139.1691544622726,-5106.830463555262] , temps pris : 0:58:51\n",
            "iter 93000000 , cost : 17244952759.142994 , t : [77832.83941699166,139.17002470806543,-5183.00987715097] , temps pris : 0:59:29\n",
            "iter 94000000 , cost : 16528952050.05941 , t : [78079.66514974914,139.1708766962774,-5257.591062358881] , temps pris : 1:00:07\n",
            "iter 95000000 , cost : 15842679286.210855 , t : [78321.3125295315,139.17171080995593,-5330.6075496814365] , temps pris : 1:00:45\n",
            "iter 96000000 , cost : 15184900180.37516 , t : [78557.89019711924,139.1725274241002,-5402.092166157055] , temps pris : 1:01:24\n",
            "iter 97000000 , cost : 14554431691.925516 , t : [78789.5045140268,139.17332690584848,-5472.077050120531] , temps pris : 1:02:02\n",
            "iter 98000000 , cost : 13950139899.502321 , t : [79016.25961032069,139.17410961463656,-5540.593665649831] , temps pris : 1:02:40\n",
            "iter 99000000 , cost : 13370937961.245321 , t : [79238.25743146297,139.17487590235336,-5607.672816714907] , temps pris : 1:03:19\n",
            "iter 100000000 , cost : 12815784160.896128 , t : [79455.59778409763,139.17562611351025,-5673.344661023793] , temps pris : 1:03:57\n",
            "iter 101000000 , cost : 12283680032.87767 , t : [79668.37838095539,139.1763605853926,-5737.638723581346] , temps pris : 1:04:35\n",
            "iter 102000000 , cost : 11773668568.092478 , t : [79876.69488476861,139.1770796482081,-5800.583909965918] , temps pris : 1:05:14\n",
            "iter 103000000 , cost : 11284832491.696041 , t : [80080.64095129457,139.17778362523129,-5862.208519320854] , temps pris : 1:05:52\n",
            "iter 104000000 , cost : 10816292613.545284 , t : [80280.30827139746,139.17847283296246,-5922.540257079602] , temps pris : 1:06:30\n",
            "iter 105000000 , cost : 10367206246.440928 , t : [80475.78661230115,139.17914758126022,-5981.606247421476] , temps pris : 1:07:08\n",
            "iter 106000000 , cost : 9936765691.951265 , t : [80667.16385792359,139.17980817347782,-6039.433045466465] , temps pris : 1:07:47\n",
            "iter 107000000 , cost : 9524196786.781033 , t : [80854.52604839612,139.18045490660384,-6096.046649213183] , temps pris : 1:08:25\n",
            "iter 108000000 , cost : 9128757509.518982 , t : [81037.9574187499,139.18108807140504,-6151.472511227851] , temps pris : 1:09:03\n",
            "iter 109000000 , cost : 8749736647.987167 , t : [81217.54043678312,139.18170795253783,-6205.735550087443] , temps pris : 1:09:41\n",
            "iter 110000000 , cost : 8386452518.927246 , t : [81393.35584012882,139.1823148286918,-6258.8601615817415] , temps pris : 1:10:19\n",
            "iter 111000000 , cost : 8038251741.8812065 , t : [81565.48267257637,139.18290897270634,-6310.870229682292] , temps pris : 1:10:58\n",
            "iter 112000000 , cost : 7704508064.370959 , t : [81733.99831956794,139.18349065170938,-6361.7891372798] , temps pris : 1:11:35\n",
            "iter 113000000 , cost : 7384621236.365932 , t : [81898.978543038,139.18406012720203,-6411.639776696149] , temps pris : 1:12:14\n",
            "iter 114000000 , cost : 7078015928.937292 , t : [82060.49751544061,139.18461765521747,-6460.4445599777] , temps pris : 1:12:52\n",
            "iter 115000000 , cost : 6784140700.841972 , t : [82218.62785311021,139.1851634864104,-6508.225428970161] , temps pris : 1:13:30\n",
            "iter 116000000 , cost : 6502467006.382037 , t : [82373.44064890375,139.1856978661784,-6555.003865184379] , temps pris : 1:14:09\n",
            "iter 117000000 , cost : 6232488244.890394 , t : [82525.00550416803,139.18622103476713,-6600.800899453345] , temps pris : 1:14:47\n",
            "iter 118000000 , cost : 5973718849.239541 , t : [82673.39056002276,139.18673322738778,-6645.63712138753] , temps pris : 1:15:26\n",
            "iter 119000000 , cost : 5725693412.837488 , t : [82818.66252800566,139.1872346743133,-6689.5326886313405] , temps pris : 1:16:04\n",
            "iter 120000000 , cost : 5487965852.723832 , t : [82960.88672005846,139.18772560098637,-6732.50733592793] , temps pris : 1:16:43\n",
            "iter 121000000 , cost : 5260108606.649045 , t : [83100.12707789098,139.1882062281181,-6774.580383984425] , temps pris : 1:17:22\n",
            "iter 122000000 , cost : 5041711865.093389 , t : [83236.44620173839,139.1886767717857,-6815.770748169835] , temps pris : 1:18:00\n",
            "iter 123000000 , cost : 4832382832.806171 , t : [83369.90537847113,139.18913744355137,-6856.096947008674] , temps pris : 1:18:39\n",
            "iter 124000000 , cost : 4631745023.964745 , t : [83500.56460919794,139.18958845051634,-6895.5771105118965] , temps pris : 1:19:17\n",
            "iter 125000000 , cost : 4439437583.7162485 , t : [83628.48263620735,139.190029995449,-6934.228988326177] , temps pris : 1:19:56\n",
            "iter 126000000 , cost : 4255114639.879662 , t : [83753.71696939065,139.19046227685942,-6972.069957714613] , temps pris : 1:20:34\n",
            "iter 127000000 , cost : 4078444680.725509 , t : [83876.32391208754,139.19088548909505,-7009.1170313687435] , temps pris : 1:21:12\n",
            "iter 128000000 , cost : 3909109958.370459 , t : [83996.35858641229,139.19129982242845,-7045.386865057439] , temps pris : 1:21:50\n",
            "iter 129000000 , cost : 3746805918.4087944 , t : [84113.87495802138,139.19170546313018,-7080.895765114812] , temps pris : 1:22:29\n",
            "iter 130000000 , cost : 3591240650.7206736 , t : [84228.9258603866,139.19210259357237,-7115.659695771482] , temps pris : 1:23:07\n",
            "iter 131000000 , cost : 3442134364.934191 , t : [84341.56301854769,139.19249139230328,-7149.694286331885] , temps pris : 1:23:45\n",
            "iter 132000000 , cost : 3299218888.0332594 , t : [84451.83707235714,139.19287203411702,-7183.014838200753] , temps pris : 1:24:24\n",
            "iter 133000000 , cost : 3162237181.257156 , t : [84559.79759925925,139.1932446901405,-7215.636331762727] , temps pris : 1:25:02\n",
            "iter 134000000 , cost : 3030942877.5253186 , t : [84665.49313656816,139.19360952792104,-7247.573433116774] , temps pris : 1:25:40\n",
            "iter 135000000 , cost : 2905099839.373309 , t : [84768.97120330168,139.19396671147618,-7278.8405006703] , temps pris : 1:26:18\n",
            "iter 136000000 , cost : 2784481732.9185443 , t : [84870.2783215354,139.19431640139845,-7309.451591594351] , temps pris : 1:26:56\n",
            "iter 137000000 , cost : 2668871622.4100304 , t : [84969.4600373193,139.19465875489416,-7339.420468143461] , temps pris : 1:27:35\n",
            "iter 138000000 , cost : 2558061578.2634983 , t : [85066.56094115606,139.19499392588963,-7368.760603842475] , temps pris : 1:28:13\n",
            "iter 139000000 , cost : 2451852304.7898083 , t : [85161.62468805675,139.19532206506275,-7397.4851895454185] , temps pris : 1:28:51\n",
            "iter 140000000 , cost : 2350052780.3230844 , t : [85254.69401715192,139.19564331994516,-7425.607139363443] , temps pris : 1:29:29\n",
            "iter 141000000 , cost : 2252479914.799426 , t : [85345.81077091668,139.19595783496342,-7453.139096473871] , temps pris : 1:30:07\n",
            "iter 142000000 , cost : 2158958219.5217385 , t : [85435.0159139771,139.19626575152347,-7480.093438801687] , temps pris : 1:30:46\n",
            "iter 143000000 , cost : 2069319492.3738172 , t : [85522.34955153005,139.19656720805594,-7506.482284585934] , temps pris : 1:31:24\n",
            "iter 144000000 , cost : 1983402514.460922 , t : [85607.85094737711,139.19686234009598,-7532.317497827525] , temps pris : 1:32:02\n",
            "iter 145000000 , cost : 1901052761.0890083 , t : [85691.55854157112,139.1971512803243,-7557.610693622889] , temps pris : 1:32:40\n",
            "iter 146000000 , cost : 1822122123.0259247 , t : [85773.50996770088,139.19743415864608,-7582.373243386405] , temps pris : 1:33:19\n",
            "iter 147000000 , cost : 1746468640.3876674 , t : [85853.74206981032,139.19771110224227,-7606.616279962204] , temps pris : 1:33:57\n",
            "iter 148000000 , cost : 1673956247.8673248 , t : [85932.29091896197,139.19798223561395,-7630.35070262996] , temps pris : 1:34:35\n",
            "iter 149000000 , cost : 1604454528.8271575 , t : [86009.19182946096,139.19824768066525,-7653.587182004642] , temps pris : 1:35:13\n",
            "iter 150000000 , cost : 1537838482.0380838 , t : [86084.47937471294,139.19850755673355,-7676.336164834037] , temps pris : 1:35:51\n",
            "iter 151000000 , cost : 1473988295.8799696 , t : [86158.18740279121,139.198761980657,-7698.607878695008] , temps pris : 1:36:29\n",
            "iter 152000000 , cost : 1412789133.424242 , t : [86230.34905164198,139.1990110668184,-7720.4123365920805] , temps pris : 1:37:08\n",
            "iter 153000000 , cost : 1354130925.6316872 , t : [86300.99676397913,139.19925492720438,-7741.759341458279] , temps pris : 1:37:46\n",
            "iter 154000000 , cost : 1297908173.590432 , t : [86370.16230187826,139.19949367145006,-7762.658490565178] , temps pris : 1:38:25\n",
            "iter 155000000 , cost : 1244019758.4939096 , t : [86437.87676105728,139.19972740688948,-7783.119179833413] , temps pris : 1:39:03\n",
            "iter 156000000 , cost : 1192368760.041875 , t : [86504.17058484614,139.19995623860586,-7803.1506080599665] , temps pris : 1:39:41\n",
            "iter 157000000 , cost : 1142862281.755061 , t : [86569.07357788522,139.20018026948392,-7822.761781053321] , temps pris : 1:40:20\n",
            "iter 158000000 , cost : 1095411284.6031194 , t : [86632.61491951291,139.20039960023854,-7841.9615156815935] , temps pris : 1:40:58\n",
            "iter 159000000 , cost : 1049930426.0507413 , t : [86694.82317690087,139.20061432947858,-7860.758443837004] , temps pris : 1:41:36\n",
            "iter 160000000 , cost : 1006337907.1531945 , t : [86755.72631787158,139.2008245537435,-7879.161016315672] , temps pris : 1:42:15\n",
            "iter 161000000 , cost : 964555324.995045 , t : [86815.3517235052,139.20103036754765,-7897.177506618509] , temps pris : 1:42:53\n",
            "iter 162000000 , cost : 924507532.0721043 , t : [86873.72620042549,139.20123186342047,-7914.8160146702885] , temps pris : 1:43:31\n",
            "iter 163000000 , cost : 886122500.9762639 , t : [86930.87599285487,139.20142913195022,-7932.084470460173] , temps pris : 1:44:09\n",
            "iter 164000000 , cost : 849331194.6392759 , t : [86986.82679442628,139.20162226182893,-7948.990637608745] , temps pris : 1:44:48\n",
            "iter 165000000 , cost : 814067442.6684072 , t : [87041.60375972015,139.2018113398789,-7965.542116857007] , temps pris : 1:45:25\n",
            "iter 166000000 , cost : 780267821.7240007 , t : [87095.23151557741,139.2019964511134,-7981.746349484063] , temps pris : 1:46:04\n",
            "iter 167000000 , cost : 747871541.9344321 , t : [87147.73417217481,139.20217767875383,-7997.610620651868] , temps pris : 1:46:42\n",
            "iter 168000000 , cost : 716820337.4746704 , t : [87199.13533386476,139.2023551042727,-8013.1420626822555] , temps pris : 1:47:20\n",
            "iter 169000000 , cost : 687058361.4646711 , t : [87249.4581097813,139.2025288074426,-8028.347658261478] , temps pris : 1:47:58\n",
            "iter 170000000 , cost : 658532085.9285043 , t : [87298.72512423737,139.2026988663546,-8043.234243581163] , temps pris : 1:48:36\n",
            "iter 171000000 , cost : 631190205.216584 , t : [87346.9585268899,139.20286535746772,-8057.808511410835] , temps pris : 1:49:14\n",
            "iter 172000000 , cost : 604983544.0357542 , t : [87394.18000270196,139.2030283556278,-8072.077014106646] , temps pris : 1:49:53\n",
            "iter 173000000 , cost : 579864968.6067017 , t : [87440.41078168673,139.20318793412363,-8086.046166558721] , temps pris : 1:50:31\n",
            "iter 174000000 , cost : 555789302.2820947 , t : [87485.67164846457,139.20334416469282,-8099.722249072843] , temps pris : 1:51:09\n",
            "iter 175000000 , cost : 532713244.03538287 , t : [87529.98295159098,139.2034971175772,-8113.111410196124] , temps pris : 1:51:47\n",
            "iter 176000000 , cost : 510595290.61483395 , t : [87573.36461271481,139.20364686154642,-8126.219669480077] , temps pris : 1:52:26\n",
            "iter 177000000 , cost : 489395662.25542325 , t : [87615.83613553285,139.20379346391297,-8139.052920187253] , temps pris : 1:53:04\n",
            "iter 178000000 , cost : 469076230.5061133 , t : [87657.41661456203,139.20393699059153,-8151.616931941195] , temps pris : 1:53:42\n",
            "iter 179000000 , cost : 449600450.0018561 , t : [87698.12474371563,139.2040775061149,-8163.917353319378] , temps pris : 1:54:20\n",
            "iter 180000000 , cost : 430933293.00359535 , t : [87737.97882471474,139.20421507364694,-8175.959714393675] , temps pris : 1:54:59\n",
            "iter 181000000 , cost : 413041185.8029896 , t : [87776.99677531356,139.2043497550421,-8187.749429216154] , temps pris : 1:55:37\n",
            "iter 182000000 , cost : 395891948.78459936 , t : [87815.19613735382,139.20448161085054,-8199.291798252776] , temps pris : 1:56:15\n",
            "iter 183000000 , cost : 379454738.44600636 , t : [87852.59408465553,139.20461070034935,-8210.592010767103] , temps pris : 1:56:53\n",
            "iter 184000000 , cost : 363699991.79152447 , t : [87889.20743073586,139.20473708157752,-8221.655147153191] , temps pris : 1:57:31\n",
            "iter 185000000 , cost : 348599373.24002606 , t : [87925.05263636447,139.20486081135994,-8232.486181219592] , temps pris : 1:58:10\n",
            "iter 186000000 , cost : 334125723.9642909 , t : [87960.14581697244,139.20498194530893,-8243.089982424413] , temps pris : 1:58:48\n",
            "iter 187000000 , cost : 320253012.4871594 , t : [87994.50274989,139.20510053788928,-8253.471318066946] , temps pris : 1:59:26\n",
            "iter 188000000 , cost : 306956288.08162516 , t : [88028.1388814388,139.2052166424276,-8263.634855428654] , temps pris : 2:00:04\n",
            "iter 189000000 , cost : 294211636.1612885 , t : [88061.0693338844,139.20533031111708,-8273.585163872369] , temps pris : 2:00:43\n",
            "iter 190000000 , cost : 281996135.0056774 , t : [88093.30891222686,139.2054415950613,-8283.326716896878] , temps pris : 2:01:21\n",
            "iter 191000000 , cost : 270287814.59285766 , t : [88124.87211086393,139.2055505442889,-8292.863894147353] , temps pris : 2:02:00\n",
            "iter 192000000 , cost : 259065617.01258314 , t : [88155.77312010205,139.2056572077867,-8302.200983386216] , temps pris : 2:02:38\n",
            "iter 193000000 , cost : 248309358.7634202 , t : [88186.02583254005,139.20576163350432,-8311.342182418337] , temps pris : 2:03:16\n",
            "iter 194000000 , cost : 237999694.23003757 , t : [88215.64384931039,139.20586386839585,-8320.291600979905] , temps pris : 2:03:54\n",
            "iter 195000000 , cost : 228118081.22497076 , t : [88244.64048619488,139.20596395841582,-8329.05326258542] , temps pris : 2:04:32\n",
            "iter 196000000 , cost : 218646747.23330912 , t : [88273.02877961706,139.20606194856657,-8337.631106337252] , temps pris : 2:05:10\n",
            "iter 197000000 , cost : 209568657.6227088 , t : [88300.82149249862,139.20615788290857,-8346.02898869628] , temps pris : 2:05:49\n",
            "iter 198000000 , cost : 200867485.17876145 , t : [88328.03111999761,139.20625180456625,-8354.250685215286] , temps pris : 2:06:27\n",
            "iter 199000000 , cost : 192527580.51367557 , t : [88354.66989511899,139.20634375576813,-8362.299892236731] , temps pris : 2:07:05\n",
            "iter 200000000 , cost : 184533944.00608855 , t : [88380.7497942327,139.20643377784967,-8370.180228554187] , temps pris : 2:07:43\n",
            "iter 201000000 , cost : 176872198.77389207 , t : [88406.28254244015,139.20652191128767,-8377.89523704107] , temps pris : 2:08:21\n",
            "iter 202000000 , cost : 169528564.89178753 , t : [88431.27961885624,139.20660819570332,-8385.448386241062] , temps pris : 2:08:59\n",
            "iter 203000000 , cost : 162489834.49577144 , t : [88455.75226176376,139.20669266989353,-8392.843071928097] , temps pris : 2:09:38\n",
            "iter 204000000 , cost : 155743348.2203925 , t : [88479.71147367035,139.2067753718322,-8400.082618634528] , temps pris : 2:10:16\n",
            "iter 205000000 , cost : 149276972.28109035 , t : [88503.16802625368,139.2068563386981,-8407.170281144316] , temps pris : 2:10:54\n",
            "iter 206000000 , cost : 143079076.58101264 , t : [88526.1324651989,139.20693560690026,-8414.109245955999] , temps pris : 2:11:32\n",
            "iter 207000000 , cost : 137138514.07467586 , t : [88548.61511495082,139.20701321206622,-8420.902632716898] , temps pris : 2:12:11\n",
            "iter 208000000 , cost : 131444600.33788364 , t : [88570.62608334776,139.20708918909443,-8427.553495624268] , temps pris : 2:12:49\n",
            "iter 209000000 , cost : 125987094.70563146 , t : [88592.1752661654,139.2071635721394,-8434.064824799516] , temps pris : 2:13:27\n",
            "iter 210000000 , cost : 120756181.60552503 , t : [88613.27235157194,139.20723639464498,-8440.439547631184] , temps pris : 2:14:05\n",
            "iter 211000000 , cost : 115742453.0786126 , t : [88633.92682447746,139.20730768934814,-8446.680530092488] , temps pris : 2:14:43\n",
            "iter 212000000 , cost : 110936891.7167627 , t : [88654.14797080011,139.2073774883046,-8452.790578028513] , temps pris : 2:15:21\n",
            "iter 213000000 , cost : 106330854.55067599 , t : [88673.94488164321,139.20744582289393,-8458.772438419268] , temps pris : 2:16:00\n",
            "iter 214000000 , cost : 101916057.45700529 , t : [88693.32645737936,139.20751272383654,-8464.628800612418] , temps pris : 2:16:38\n",
            "iter 215000000 , cost : 97684560.28598242 , t : [88712.30141165404,139.207578221207,-8470.362297534668] , temps pris : 2:17:17\n",
            "iter 216000000 , cost : 93628752.45855458 , t : [88730.87827530011,139.20764234445957,-8475.975506873521] , temps pris : 2:17:55\n",
            "iter 217000000 , cost : 89741339.46052638 , t : [88749.0654001788,139.20770512242208,-8481.470952238227] , temps pris : 2:18:33\n",
            "iter 218000000 , cost : 86015329.66972783 , t : [88766.87096292787,139.20776658331445,-8486.851104292406] , temps pris : 2:19:11\n",
            "iter 219000000 , cost : 82444021.70809805 , t : [88784.30296864214,139.20782675476948,-8492.11838186596] , temps pris : 2:19:49\n",
            "iter 220000000 , cost : 79020992.44642068 , t : [88801.36925447159,139.20788566383854,-8497.275153042165] , temps pris : 2:20:28\n",
            "iter 221000000 , cost : 75740085.4413184 , t : [88818.07749314402,139.20794333700567,-8502.323736222506] , temps pris : 2:21:06\n",
            "iter 222000000 , cost : 72595399.7905963 , t : [88834.43519641382,139.20799980020914,-8507.266401168985] , temps pris : 2:21:44\n",
            "iter 223000000 , cost : 69581279.75619756 , t : [88850.44971844181,139.2080550788208,-8512.105370024023] , temps pris : 2:22:22\n",
            "iter 224000000 , cost : 66692304.26778092 , t : [88866.12825910217,139.20810919770003,-8516.842818310462] , temps pris : 2:23:00\n",
            "iter 225000000 , cost : 63923277.439038105 , t : [88881.47786721209,139.20816218117315,-8521.480875908957] , temps pris : 2:23:39\n",
            "iter 226000000 , cost : 61269219.03012192 , t : [88896.5054437078,139.2082140530664,-8526.021628015575] , temps pris : 2:24:17\n",
            "iter 227000000 , cost : 58725355.611120276 , t : [88911.21774474802,139.20826483669973,-8530.46711607899] , temps pris : 2:24:55\n",
            "iter 228000000 , cost : 56287111.97372009 , t : [88925.62138474743,139.2083145549013,-8534.819338719586] , temps pris : 2:25:33\n",
            "iter 229000000 , cost : 53950102.849225454 , t : [88939.72283935008,139.2083632300232,-8539.080252626612] , temps pris : 2:26:11\n",
            "iter 230000000 , cost : 51710125.0249596 , t : [88953.52844834104,139.20841088395272,-8543.251773438944] , temps pris : 2:26:49\n",
            "iter 231000000 , cost : 49563149.80396681 , t : [88967.04441850314,139.20845753811344,-8547.335776604436] , temps pris : 2:27:27\n",
            "iter 232000000 , cost : 47505315.78456536 , t : [88980.27682639913,139.2085032134793,-8551.334098225982] , temps pris : 2:28:06\n",
            "iter 233000000 , cost : 45532921.87916657 , t : [88993.231621107,139.20854793058405,-8555.248535884473] , temps pris : 2:28:44\n",
            "iter 234000000 , cost : 43642420.638933875 , t : [89005.91462689204,139.20859170953662,-8559.080849448106] , temps pris : 2:29:22\n",
            "iter 235000000 , cost : 41830411.970205486 , t : [89018.33154583175,139.20863457001087,-8562.832761863348] , temps pris : 2:30:00\n",
            "iter 236000000 , cost : 40093636.85521346 , t : [89030.48796037276,139.20867653128533,-8566.505959929877] , temps pris : 2:30:39\n",
            "iter 237000000 , cost : 38428971.6724517 , t : [89042.38933584312,139.2087176122197,-8570.102095058548] , temps pris : 2:31:17\n",
            "iter 238000000 , cost : 36833422.46694142 , t : [89054.0410229099,139.2087578312815,-8573.622784013824] , temps pris : 2:31:55\n",
            "iter 239000000 , cost : 35304119.54555749 , t : [89065.44825998502,139.2087972065585,-8577.069609640528] , temps pris : 2:32:33\n",
            "iter 240000000 , cost : 33838312.40815516 , t : [89076.61617557838,139.20883575575266,-8580.444121576535] , temps pris : 2:33:11\n",
            "iter 241000000 , cost : 32433364.767099235 , t : [89087.54979060587,139.20887349619036,-8583.747836947934] , temps pris : 2:33:49\n",
            "iter 242000000 , cost : 31086749.75372437 , t : [89098.25402064611,139.20891044484205,-8586.982241052188] , temps pris : 2:34:28\n",
            "iter 243000000 , cost : 29796045.437254027 , t : [89108.73367814589,139.20894661831923,-8590.148788025337] , temps pris : 2:35:06\n",
            "iter 244000000 , cost : 28558930.445404828 , t : [89118.99347459358,139.20898203288186,-8593.24890149603] , temps pris : 2:35:44\n",
            "iter 245000000 , cost : 27373179.769916143 , t : [89129.03802262628,139.20901670445494,-8596.283975225424] , temps pris : 2:36:22\n",
            "iter 246000000 , cost : 26236660.77292241 , t : [89138.87183811328,139.20905064862927,-8599.255373733648] , temps pris : 2:37:01\n",
            "iter 247000000 , cost : 25147329.448838845 , t : [89148.49934217901,139.20908388065243,-8602.164432914105] , temps pris : 2:37:39\n",
            "iter 248000000 , cost : 24103226.51179609 , t : [89157.92486319567,139.2091164154821,-8605.012460633043] , temps pris : 2:38:18\n",
            "iter 249000000 , cost : 23102474.147948205 , t : [89167.15263872447,139.20914826773563,-8607.800737317377] , temps pris : 2:38:56\n",
            "iter 250000000 , cost : 22143272.437841542 , t : [89176.18681742511,139.2091794517406,-8610.530516532064] , temps pris : 2:39:34\n",
            "iter 251000000 , cost : 21223896.275869098 , t : [89185.0314609205,139.20920998150277,-8613.203025541563] , temps pris : 2:40:13\n",
            "iter 252000000 , cost : 20342692.052424632 , t : [89193.69054561877,139.20923987076736,-8615.819465863417] , temps pris : 2:40:51\n",
            "iter 253000000 , cost : 19498074.9751238 , t : [89202.16796450625,139.20926913295003,-8618.381013806706] , temps pris : 2:41:29\n",
            "iter 254000000 , cost : 18688525.897317655 , t : [89210.46752889319,139.20929778122448,-8620.88882100229] , temps pris : 2:42:08\n",
            "iter 255000000 , cost : 17912588.85867706 , t : [89218.59297013108,139.2093258284598,-8623.344014920436] , temps pris : 2:42:46\n",
            "iter 256000000 , cost : 17168868.272049572 , t : [89226.54794128728,139.20935328727356,-8625.7476993761] , temps pris : 2:43:24\n",
            "iter 257000000 , cost : 16456026.539463654 , t : [89234.336018789,139.20938017000884,-8628.100955027783] , temps pris : 2:44:03\n",
            "iter 258000000 , cost : 15772781.602955408 , t : [89241.96070403041,139.20940648874745,-8630.404839861149] , temps pris : 2:44:41\n",
            "iter 259000000 , cost : 15117904.608997151 , t : [89249.42542494817,139.20943225532497,-8632.660389666018] , temps pris : 2:45:19\n",
            "iter 260000000 , cost : 14490217.73825792 , t : [89256.73353756029,139.20945748132456,-8634.868618500774] , temps pris : 2:45:57\n",
            "iter 261000000 , cost : 13888592.074159814 , t : [89263.88832747735,139.20948217808674,-8637.030519149725] , temps pris : 2:46:35\n",
            "iter 262000000 , cost : 13311945.567569032 , t : [89270.89301137756,139.20950635671664,-8639.147063569266] , temps pris : 2:47:14\n",
            "iter 263000000 , cost : 12759241.094943848 , t : [89277.75073845331,139.20953002808537,-8641.21920332336] , temps pris : 2:47:52\n",
            "iter 264000000 , cost : 12229484.602981247 , t : [89284.46459182992,139.20955320283227,-8643.247870012618] , temps pris : 2:48:30\n",
            "iter 265000000 , cost : 11721723.306044944 , t : [89291.03758994736,139.20957589137672,-8645.233975693345] , temps pris : 2:49:09\n",
            "iter 266000000 , cost : 11235043.96532697 , t : [89297.4726879196,139.2095981039226,-8647.178413286641] , temps pris : 2:49:47\n",
            "iter 267000000 , cost : 10768571.276011901 , t : [89303.77277886207,139.2096198504538,-8649.082056979712] , temps pris : 2:50:25\n",
            "iter 268000000 , cost : 10321466.269231604 , t : [89309.9406951969,139.20964114074695,-8650.945762620724] , temps pris : 2:51:03\n",
            "iter 269000000 , cost : 9892924.819165617 , t : [89315.97920991905,139.20966198437114,-8652.770368101841] , temps pris : 2:51:41\n",
            "iter 270000000 , cost : 9482176.160079122 , t : [89321.89103784808,139.20968239070328,-8654.556693736387] , temps pris : 2:52:20\n",
            "iter 271000000 , cost : 9088481.56014414 , t : [89327.6788368457,139.20970236891242,-8656.305542627319] , temps pris : 2:52:58\n",
            "iter 272000000 , cost : 8711132.924938157 , t : [89333.34520901338,139.20972192798786,-8658.01770102914] , temps pris : 2:53:36\n",
            "iter 273000000 , cost : 8349451.61012938 , t : [89338.89270186164,139.2097410767111,-8659.693938700779] , temps pris : 2:54:14\n",
            "iter 274000000 , cost : 8002787.08422118 , t : [89344.32380945413,139.20975982370376,-8661.335009251687] , temps pris : 2:54:53\n",
            "iter 275000000 , cost : 7670515.88784802 , t : [89349.64097352907,139.20977817738287,-8662.94165048078] , temps pris : 2:55:31\n",
            "iter 276000000 , cost : 7352040.390366837 , t : [89354.84658459897,139.20979614601086,-8664.514584708311] , temps pris : 2:56:09\n",
            "iter 277000000 , cost : 7046787.820715777 , t : [89359.94298302173,139.20981373765883,-8666.054519100038] , temps pris : 2:56:48\n",
            "iter 278000000 , cost : 6754209.1661990415 , t : [89364.93246005567,139.20983096023804,-8667.56214598592] , temps pris : 2:57:26\n",
            "iter 279000000 , cost : 6473778.208698784 , t : [89369.81725889092,139.20984782149205,-8669.038143170426] , temps pris : 2:58:04\n",
            "iter 280000000 , cost : 6204990.592672268 , t : [89374.59957565392,139.2098643289979,-8670.483174238518] , temps pris : 2:58:42\n",
            "iter 281000000 , cost : 5947362.892362475 , t : [89379.28156039803,139.2098804901769,-8671.89788885281] , temps pris : 2:59:21\n",
            "iter 282000000 , cost : 5700431.719183125 , t : [89383.8653180679,139.20989631231114,-8673.282923046252] , temps pris : 2:59:59\n",
            "iter 283000000 , cost : 5463753.032211914 , t : [89388.35290944666,139.20991180248046,-8674.638899507943] , temps pris : 3:00:38\n",
            "iter 284000000 , cost : 5236901.081931405 , t : [89392.74635208352,139.20992696768283,-8675.966427863033] , temps pris : 3:01:16\n",
            "iter 285000000 , cost : 5019467.900640437 , t : [89397.04762119961,139.20994181472082,-8677.266104947124] , temps pris : 3:01:54\n",
            "iter 286000000 , cost : 4811062.429793172 , t : [89401.25865057729,139.2099563502668,-8678.538515073855] , temps pris : 3:02:32\n",
            "iter 287000000 , cost : 4611309.83423395 , t : [89405.3813334266,139.20997058086144,-8679.784230298603] , temps pris : 3:03:11\n",
            "iter 288000000 , cost : 4419850.84457292 , t : [89409.41752323948,139.2099845129059,-8681.00381067467] , temps pris : 3:03:49\n",
            "iter 289000000 , cost : 4236341.125541441 , t : [89413.36903462272,139.20999815265813,-8682.197804505971] , temps pris : 3:04:27\n",
            "iter 290000000 , cost : 4060450.6391973873 , t : [89417.23764411244,139.21001150624437,-8683.366748593062] , temps pris : 3:05:05\n",
            "iter 291000000 , cost : 3891863.0129311704 , t : [89421.02509097278,139.21002457968262,-8684.511168474233] , temps pris : 3:05:44\n",
            "iter 292000000 , cost : 3730275.0642093094 , t : [89424.733077979,139.21003737883495,-8685.631578662425] , temps pris : 3:06:22\n",
            "iter 293000000 , cost : 3575396.137910632 , t : [89428.36327218218,139.21004990947398,-8686.728482875764] , temps pris : 3:07:00\n",
            "iter 294000000 , cost : 3426947.7231168877 , t : [89431.91730565985,139.2100621772075,-8687.802374264938] , temps pris : 3:07:38\n",
            "iter 295000000 , cost : 3284662.7856162353 , t : [89435.39677624842,139.2100741875764,-8688.853735634159] , temps pris : 3:08:16\n",
            "iter 296000000 , cost : 3148285.436148097 , t : [89438.80324826066,139.21008594597234,-8689.883039658795] , temps pris : 3:08:54\n",
            "iter 297000000 , cost : 3017570.4048867193 , t : [89442.13825319339,139.21009745767384,-8690.890749096912] , temps pris : 3:09:32\n",
            "iter 298000000 , cost : 2892282.5770678115 , t : [89445.40329041005,139.21010872786977,-8691.87731699907] , temps pris : 3:10:10\n",
            "iter 299000000 , cost : 2772196.6386386855 , t : [89448.59982781866,139.21011976161353,-8692.843186910153] , temps pris : 3:10:49\n",
            "temps pris (sans normalisation) : 3:10:49\n"
          ]
        },
        {
          "output_type": "execute_result",
          "data": {
            "text/plain": [
              "array([[89451.72930253],\n",
              "       [  139.21013056],\n",
              "       [-8693.78879307]])"
            ]
          },
          "metadata": {},
          "execution_count": 321
        }
      ],
      "source": [
        "import datetime\n",
        "\n",
        "theta = np.zeros((3, 1)) # initialement a 0\n",
        "\n",
        "def gradientDescent_multi_test(X, y, theta, alpha, iterations):\n",
        "  a = datetime.datetime.now().replace(microsecond=0)\n",
        "  m = len(y)\n",
        "  t = np.copy(theta)\n",
        "\n",
        "  for i in range(iterations):\n",
        "    if (i%1000000 == 0):\n",
        "      b = datetime.datetime.now().replace(microsecond=0)\n",
        "      print(\"iter {0} , cost : {1} , t : [{2},{3},{4}] , temps pris : {5}\".format(i,computeCost(X, y,t),t[0][0],t[1][0],t[2][0],(b-a)))\n",
        "    y_pred = np.transpose(np.matmul(X,t))\n",
        "    t[0] = t[0] - (alpha * ((1/m) * np.sum(y_pred - y)))\n",
        "    t[1] = t[1] - (alpha * ((1/m) * np.sum((y_pred - y) * X[:,1])))\n",
        "    t[2] = t[2] - (alpha * ((1/m) * np.sum((y_pred - y) * X[:,2])))\n",
        "\n",
        "  print(\"temps pris (sans normalisation) : {0}\".format(b-a))\n",
        "  return t\n",
        "\n",
        "gradientDescent_multi_test(X, y, theta, 0.0000004328, 300000000)"
      ]
    },
    {
      "cell_type": "markdown",
      "metadata": {
        "id": "1Tamm2HkduBR"
      },
      "source": [
        "# ***Comparer la descente du gradient avec et sans normalisation***\n",
        "- **Exemple**: voir la difference dans le temps de calcul "
      ]
    },
    {
      "cell_type": "markdown",
      "metadata": {
        "id": "xID7_9hbduBR"
      },
      "source": [
        "# Renforcement d'apprentissage\n",
        "Mettre ici toute idée qui pourrait renforcer votre apprentissage"
      ]
    },
    {
      "cell_type": "code",
      "execution_count": 324,
      "metadata": {
        "colab": {
          "base_uri": "https://localhost:8080/"
        },
        "id": "e8hqUv8UduBS",
        "outputId": "ddf22c9e-e830-4890-9114-0d1ee82c107c"
      },
      "outputs": [
        {
          "output_type": "stream",
          "name": "stdout",
          "text": [
            "iter 0 , cost : 6015548808460000.0 , t : [0.0,0.0,0.0] , temps pris : 0:00:00\n",
            "iter 100000 , cost : 49443819.939814 , t : [88967.80408012208,139.2084575351048,-8547.563659159016] , temps pris : 0:00:04\n",
            "iter 200000 , cost : 2746.4131352407953 , t : [89593.0709004592,139.2106184244585,-8736.496742217809] , temps pris : 0:00:08\n",
            "iter 300000 , cost : 0.15255263386010978 , t : [89597.73096905177,139.21063452941124,-8737.90484688259] , temps pris : 0:00:12\n",
            "iter 400000 , cost : 8.47368622905291e-06 , t : [89597.76570020692,139.21063464944032,-8737.915341385116] , temps pris : 0:00:16\n",
            "iter 500000 , cost : 4.682983433810393e-10 , t : [89597.76595905368,139.21063465033336,-8737.915419598214] , temps pris : 0:00:21\n",
            "iter 600000 , cost : 2.7472364593178304e-12 , t : [89597.76596085784,139.21063465034257,-8737.915420145458] , temps pris : 0:00:25\n",
            "iter 700000 , cost : 2.7472364593178304e-12 , t : [89597.76596085784,139.21063465034257,-8737.915420145458] , temps pris : 0:00:29\n",
            "iter 800000 , cost : 2.7472364593178304e-12 , t : [89597.76596085784,139.21063465034257,-8737.915420145458] , temps pris : 0:00:33\n",
            "iter 900000 , cost : 2.7472364593178304e-12 , t : [89597.76596085784,139.21063465034257,-8737.915420145458] , temps pris : 0:00:37\n",
            "temps pris : 0:00:41\n"
          ]
        }
      ],
      "source": [
        "def gradientDescent_multi_test_alpha(X, y, theta, alpha, iterations):\n",
        "  a = datetime.datetime.now().replace(microsecond=0)\n",
        "  m = len(y)\n",
        "  t = np.copy(theta)\n",
        "\n",
        "  for i in range(iterations):\n",
        "    if (i%100000 == 0):\n",
        "      b = datetime.datetime.now().replace(microsecond=0)\n",
        "      print(\"iter {0} , cost : {1} , t : [{2},{3},{4}] , temps pris : {5}\".format(i,computeCost(X, y,t),t[0][0],t[1][0],t[2][0],(b-a)))\n",
        "    y_pred = np.transpose(np.matmul(X,t))\n",
        "    t[0] = t[0] - (alpha[0] * ((1/m) * np.sum(y_pred - y)))\n",
        "    t[1] = t[1] - (alpha[1] * ((1/m) * np.sum((y_pred - y) * X[:,1])))\n",
        "    t[2] = t[2] - (alpha[2] * ((1/m) * np.sum((y_pred - y) * X[:,2])))\n",
        "  return t\n",
        "a = datetime.datetime.now().replace(microsecond=0)\n",
        "t = gradientDescent_multi_test_alpha(X, y, theta, [0.001,0.0000001,0.001], 1000000)\n",
        "b = datetime.datetime.now().replace(microsecond=0)\n",
        "print(\"temps pris : {0}\".format(b-a))"
      ]
    },
    {
      "cell_type": "code",
      "source": [
        "print(t)"
      ],
      "metadata": {
        "colab": {
          "base_uri": "https://localhost:8080/"
        },
        "id": "aJmJ6jSEzi3a",
        "outputId": "d66c5c2f-481c-4e74-8526-04502bc8fd24"
      },
      "execution_count": 325,
      "outputs": [
        {
          "output_type": "stream",
          "name": "stdout",
          "text": [
            "[[89597.76596086]\n",
            " [  139.21063465]\n",
            " [-8737.91542015]]\n"
          ]
        }
      ]
    },
    {
      "cell_type": "code",
      "execution_count": null,
      "metadata": {
        "colab": {
          "base_uri": "https://localhost:8080/"
        },
        "id": "74WLudTD4yl-",
        "outputId": "de0c6b87-6845-49b9-c9d8-aedb34c5d010"
      },
      "outputs": [
        {
          "name": "stdout",
          "output_type": "stream",
          "text": [
            "Intercept : (theta 0)  89597.76596099924\n",
            "Coefficients : (theta 1)  139.2106346503416\n",
            "Coefficients : (theta 2)  -8737.915420187152\n"
          ]
        }
      ],
      "source": [
        "from sklearn import linear_model\n",
        "\n",
        "regr = linear_model.LinearRegression()\n",
        "regr.fit(X[:,1:3], y)\n",
        "\n",
        "print('Intercept : (theta 0) ', regr.intercept_)\n",
        "print('Coefficients : (theta 1) ', regr.coef_[0])\n",
        "print('Coefficients : (theta 2) ', regr.coef_[1])"
      ]
    },
    {
      "cell_type": "markdown",
      "metadata": {
        "id": "TpuP_PZ1duBS"
      },
      "source": [
        "# Consignes"
      ]
    },
    {
      "cell_type": "markdown",
      "metadata": {
        "id": "4WVJKVhFduBS"
      },
      "source": [
        "Le travail est à remettre par groupe de 4 au maximum [1..4].\n",
        "\n",
        "Le délai est le vendredi 18 Mars 2022 à 22h\n"
      ]
    },
    {
      "cell_type": "code",
      "execution_count": null,
      "metadata": {
        "id": "fYbOlDZKduBT"
      },
      "outputs": [],
      "source": [
        "# bonne chance"
      ]
    }
  ],
  "metadata": {
    "accelerator": "GPU",
    "colab": {
      "collapsed_sections": [
        "bT4srwvYduAk"
      ],
      "name": "TP_2_Descente_du_gradient (1).ipynb",
      "provenance": []
    },
    "kernelspec": {
      "display_name": "Python 3",
      "language": "python",
      "name": "python3"
    },
    "language_info": {
      "codemirror_mode": {
        "name": "ipython",
        "version": 3
      },
      "file_extension": ".py",
      "mimetype": "text/x-python",
      "name": "python",
      "nbconvert_exporter": "python",
      "pygments_lexer": "ipython3",
      "version": "3.7.3"
    }
  },
  "nbformat": 4,
  "nbformat_minor": 0
}